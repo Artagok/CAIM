{
 "cells": [
  {
   "cell_type": "code",
   "execution_count": null,
   "metadata": {},
   "outputs": [
    {
     "evalue": "Error: Jupyter cannot be started. Error attempting to locate jupyter: Error: Module 'notebook' not installed.",
     "output_type": "error"
    }
   ],
   "source": [
    "# Instal·la la llibreria (descomentar la línia de sota)\n",
    "install.packages(\"igraph\")"
   ]
  },
  {
   "cell_type": "code",
   "execution_count": null,
   "metadata": {},
   "outputs": [
    {
     "evalue": "Error: Jupyter cannot be started. Error attempting to locate jupyter: Error: Module 'notebook' not installed.",
     "output_type": "error"
    }
   ],
   "source": [
    "# Inclou la llibreria\n",
    "library(igraph)"
   ]
  },
  {
   "cell_type": "markdown",
   "metadata": {},
   "source": [
    "Inicialitzem variables"
   ]
  },
  {
   "cell_type": "code",
   "execution_count": null,
   "metadata": {},
   "outputs": [
    {
     "evalue": "Error: Jupyter cannot be started. Error attempting to locate jupyter: Error: Module 'notebook' not installed.",
     "output_type": "error"
    }
   ],
   "source": [
    "C <- NULL\n",
    "L <- NULL\n",
    "\n",
    "clustering_coefficients <- c()\n",
    "average_shortest_path <- c()"
   ]
  },
  {
   "cell_type": "markdown",
   "metadata": {},
   "source": [
    "Especifiquem el nostre vector de probabilitats"
   ]
  },
  {
   "cell_type": "code",
   "execution_count": null,
   "metadata": {},
   "outputs": [
    {
     "evalue": "Error: Jupyter cannot be started. Error attempting to locate jupyter: Error: Module 'notebook' not installed.",
     "output_type": "error"
    }
   ],
   "source": [
    "p <- c(0, 0.0001, 0.0002, 0.0003, 0.0004, 0.0005, 0.0008,\n",
    "       0.001, 0.002, 0.004, 0.008, 0.01, 0.02, 0.05, 0.1,\n",
    "       0.2, 0.5, 1)"
   ]
  },
  {
   "cell_type": "markdown",
   "metadata": {},
   "source": [
    "Apliquem transitivity per calcular els coeficients de clustering i apliquem average.path.length per calcular el camí en mitjana més curt"
   ]
  },
  {
   "cell_type": "code",
   "execution_count": null,
   "metadata": {},
   "outputs": [
    {
     "evalue": "Error: Jupyter cannot be started. Error attempting to locate jupyter: Error: Module 'notebook' not installed.",
     "output_type": "error"
    }
   ],
   "source": [
    "for (i in 1:length(p)) {\n",
    "    \n",
    "    graph <- watts.strogatz.game(1, 2000, 4, p[i])\n",
    "    \n",
    "    if (i != 1) {\n",
    "        clustering_coefficients[i] <- c(transitivity(graph) / C)\n",
    "        average_shortest_path[i] <- c(average.path.length(graph) / L)\n",
    "    }\n",
    "    else { # primera iteració\n",
    "        C <- transitivity(graph)\n",
    "        L <- average.path.length(graph)\n",
    "        clustering_coefficients <- c(1) # C(1) / C(1) = 1\n",
    "        average_shortest_path <- c(1) # L(1) / L(1) = 1\n",
    "    }\n",
    "    \n",
    "}"
   ]
  },
  {
   "cell_type": "markdown",
   "metadata": {},
   "source": [
    "Pintem els resultats"
   ]
  },
  {
   "cell_type": "code",
   "execution_count": null,
   "metadata": {},
   "outputs": [
    {
     "evalue": "Error: Jupyter cannot be started. Error attempting to locate jupyter: Error: Module 'notebook' not installed.",
     "output_type": "error"
    }
   ],
   "source": [
    "paste(c(\"Clustering Coefficients: \", clustering_coefficients), collapse=\" \")\n",
    "paste(c(\"Average Shortest Path: \", average_shortest_path), collapse=\" \")\n",
    "\n",
    "plot(p, clustering_coefficients, col=\"red\", pch=0,\n",
    "     log=\"x\", xlab=\"P\", ylab=\"\")\n",
    "points(p, average_shortest_path, col=\"blue\", pch=0)"
   ]
  }
 ],
 "metadata": {
  "kernelspec": {
   "display_name": "R",
   "language": "R",
   "name": "ir"
  },
  "language_info": {
   "codemirror_mode": "r",
   "file_extension": ".r",
   "mimetype": "text/x-r-source",
   "name": "R",
   "pygments_lexer": "r",
   "version": "3.6.1"
  }
 },
 "nbformat": 4,
 "nbformat_minor": 2
}