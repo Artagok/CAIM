{
 "cells": [
  {
   "cell_type": "code",
   "execution_count": null,
   "metadata": {},
   "outputs": [],
   "source": [
    "# Llibreries a incloure\n",
    "library(igraph)"
   ]
  },
  {
   "cell_type": "markdown",
   "metadata": {},
   "source": [
    "Creem la xarxa com un graf llegint les arestes i especificant que aquest no sigui dirigit."
   ]
  },
  {
   "cell_type": "code",
   "execution_count": null,
   "metadata": {},
   "outputs": [],
   "source": [
    "network <- read.graph(\"edges.txt\", directed = FALSE)"
   ]
  },
  {
   "cell_type": "markdown",
   "metadata": {},
   "source": [
    "Pintem la xarxa."
   ]
  },
  {
   "cell_type": "code",
   "execution_count": null,
   "metadata": {},
   "outputs": [],
   "source": [
    "plot(network, vertex.color = \"black\", edge.color = \"red\", vertex.label.color = \"white\")"
   ]
  },
  {
   "cell_type": "markdown",
   "metadata": {},
   "source": [
    "A continuació mostrem informació útil sobre la xarxa, concretament: el conjunt d'arestes, el conjunt de vèrtex (o nodes), el nombre d'arestes, el nombre de nodes, el diàmetre, la transitivitat, el grau de cadascun dels vèrtexs i la distribució dels graus."
   ]
  },
  {
   "cell_type": "code",
   "execution_count": null,
   "metadata": {},
   "outputs": [],
   "source": [
    "# Edges\n",
    "E(network)"
   ]
  },
  {
   "cell_type": "code",
   "execution_count": null,
   "metadata": {},
   "outputs": [],
   "source": [
    "# Nodes\n",
    "V(network)"
   ]
  },
  {
   "cell_type": "code",
   "execution_count": null,
   "metadata": {},
   "outputs": [],
   "source": [
    "info <- matrix(data = c(length(E(network)), length(V(network)), diameter(network, directed=FALSE), transitivity(network)), nrow = 1, ncol = 4)\n",
    "colnames(info) <- c(\"# edges\", \"# nodes\", \"Diameter\", \"Transitivity\")\n",
    "info.table <- as.table(info)\n",
    "info"
   ]
  },
  {
   "cell_type": "code",
   "execution_count": null,
   "metadata": {},
   "outputs": [],
   "source": [
    "# Degrees\n",
    "m <- matrix(data = c(degree(network)), nrow = 1, ncol = length(V(network)), byrow = TRUE)\n",
    "colnames(m) <- c(V(network))\n",
    "rownames(m) <- c(\"Degree\")\n",
    "m.table <- as.table(m)\n",
    "m"
   ]
  },
  {
   "cell_type": "code",
   "execution_count": null,
   "metadata": {},
   "outputs": [],
   "source": [
    "# Degree distribution\n",
    "degree.distribution(network)"
   ]
  },
  {
   "cell_type": "markdown",
   "metadata": {},
   "source": [
    "A PARTIR D'AQUÍ MODIFCAR EL CODI (PILLAT DE GITHUB)\n",
    "Potser fer servir un altre algorisme de community detection"
   ]
  },
  {
   "cell_type": "code",
   "execution_count": null,
   "metadata": {},
   "outputs": [],
   "source": [
    "plot(degree.distribution(network))"
   ]
  },
  {
   "cell_type": "code",
   "execution_count": null,
   "metadata": {},
   "outputs": [],
   "source": [
    "wal <- walktrap.community(network)\n",
    "plot(wal, network)"
   ]
  },
  {
   "cell_type": "code",
   "execution_count": null,
   "metadata": {},
   "outputs": [],
   "source": [
    "sizes(wal)\n",
    "plot(sizes(wal))"
   ]
  }
 ],
 "metadata": {
  "kernelspec": {
   "display_name": "R",
   "language": "R",
   "name": "ir"
  },
  "language_info": {
   "codemirror_mode": "r",
   "file_extension": ".r",
   "mimetype": "text/x-r-source",
   "name": "R",
   "pygments_lexer": "r",
   "version": "3.6.1"
  }
 },
 "nbformat": 4,
 "nbformat_minor": 2
}
